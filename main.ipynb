{
  "cells": [
    {
      "cell_type": "markdown",
      "metadata": {
        "id": "jzzs20ie_lfJ"
      },
      "source": [
        "# Introduction \n",
        "\n",
        "[Official documentation](https://doc.crowdsec.net/docs/intro) of the CrowdSec software. This will remind you of the context of how the data are collected, as well as the purpose of the software. \n",
        "\n",
        "\n",
        "Objectives :\n",
        "* EDA\n",
        "* Constructing a graph structure from the dataset\n",
        "* Training a node classifier\n",
        "* Classification (is_malicious IP_validated)\n",
        "\n",
        "\n",
        "\n",
        "---\n",
        "\n",
        "\n",
        "\n",
        "Author **Hafdi Ramy**"
      ]
    },
    {
      "cell_type": "markdown",
      "metadata": {
        "id": "KHW_MqeEwsx2"
      },
      "source": [
        "# Setting up"
      ]
    },
    {
      "cell_type": "code",
      "execution_count": 253,
      "metadata": {
        "id": "Fe1Xg8d-iYmx"
      },
      "outputs": [],
      "source": [
        "import pandas as pd\n",
        "import numpy as np \n",
        "import matplotlib.pyplot as plt\n",
        "import seaborn as sns\n",
        "\n",
        "from sklearn.model_selection import train_test_split\n",
        "from sklearn.metrics import classification_report, accuracy_score\n",
        "from sklearn.model_selection import cross_val_score\n",
        "from sklearn.preprocessing import LabelEncoder\n",
        "from sklearn.preprocessing import MinMaxScaler\n",
        "\n",
        "from sklearn.semi_supervised import LabelPropagation\n",
        "\n",
        "from scipy import stats\n",
        "\n",
        "import xgboost\n",
        "\n",
        "import torch\n",
        "import torch.nn as nn \n",
        "from torch.optim import Adam\n",
        "from torch.utils.data import DataLoader, TensorDataset, random_split, ConcatDataset\n",
        "from torch.utils.tensorboard import SummaryWriter\n",
        "\n",
        "from tqdm import tqdm\n",
        "\n",
        "import session_info\n",
        "\n",
        "import networkx as nx \n",
        "\n",
        "from torch_geometric.nn import GCNConv\n",
        "from torch_geometric.utils import from_networkx\n"
      ]
    },
    {
      "cell_type": "code",
      "execution_count": 263,
      "metadata": {
        "colab": {
          "base_uri": "https://localhost:8080/",
          "height": 34
        },
        "id": "2KlU_CxoG27v",
        "outputId": "f9327cd4-243e-4c45-d83a-a92f849c3fe1"
      },
      "outputs": [
        {
          "data": {
            "text/html": [
              "<details>\n",
              "<summary>Click to view session information</summary>\n",
              "<pre>\n",
              "-----\n",
              "matplotlib          3.2.2\n",
              "networkx            2.6.3\n",
              "numpy               1.21.6\n",
              "pandas              1.3.5\n",
              "scipy               1.7.3\n",
              "seaborn             0.11.2\n",
              "session_info        1.0.0\n",
              "sklearn             1.0.2\n",
              "torch               1.12.1+cu113\n",
              "torch_geometric     2.1.0\n",
              "tqdm                4.64.1\n",
              "xgboost             0.90\n",
              "-----\n",
              "</pre>\n",
              "<details>\n",
              "<summary>Click to view modules imported as dependencies</summary>\n",
              "<pre>\n",
              "PIL                                         7.1.2\n",
              "aa8f2297d25b4dc6fd3d98411eb3ba53823c4f42    NA\n",
              "absl                                        NA\n",
              "astor                                       0.8.1\n",
              "astunparse                                  1.6.3\n",
              "backcall                                    0.2.0\n",
              "beta_ufunc                                  NA\n",
              "binom_ufunc                                 NA\n",
              "cached_property                             1.5.2\n",
              "certifi                                     2022.09.24\n",
              "cffi                                        1.15.1\n",
              "chardet                                     3.0.4\n",
              "cloudpickle                                 1.5.0\n",
              "cycler                                      0.10.0\n",
              "cython_runtime                              NA\n",
              "dateutil                                    2.8.2\n",
              "debugpy                                     1.0.0\n",
              "decorator                                   4.4.2\n",
              "dill                                        0.3.5.1\n",
              "etils                                       0.8.0\n",
              "flatbuffers                                 NA\n",
              "fsspec                                      2022.8.2\n",
              "gast                                        NA\n",
              "google                                      NA\n",
              "google_auth_httplib2                        NA\n",
              "googleapiclient                             NA\n",
              "h5py                                        3.1.0\n",
              "httplib2                                    0.17.4\n",
              "idna                                        2.10\n",
              "importlib_metadata                          NA\n",
              "importlib_resources                         NA\n",
              "ipykernel                                   5.3.4\n",
              "ipython_genutils                            0.2.0\n",
              "ipywidgets                                  7.7.1\n",
              "jax                                         0.3.23\n",
              "jaxlib                                      0.3.22\n",
              "joblib                                      1.2.0\n",
              "keras                                       2.9.0\n",
              "kiwisolver                                  1.4.4\n",
              "mpl_toolkits                                NA\n",
              "nbinom_ufunc                                NA\n",
              "numexpr                                     2.8.3\n",
              "oauth2client                                4.1.3\n",
              "opt_einsum                                  v3.3.0\n",
              "packaging                                   21.3\n",
              "pexpect                                     4.8.0\n",
              "pickleshare                                 0.7.5\n",
              "pkg_resources                               NA\n",
              "portpicker                                  NA\n",
              "prompt_toolkit                              2.0.10\n",
              "psutil                                      5.4.8\n",
              "ptyprocess                                  0.7.0\n",
              "pyarrow                                     6.0.1\n",
              "pyasn1                                      0.4.8\n",
              "pyasn1_modules                              0.2.8\n",
              "pydev_ipython                               NA\n",
              "pydevconsole                                NA\n",
              "pydevd                                      2.0.0\n",
              "pydevd_concurrency_analyser                 NA\n",
              "pydevd_file_utils                           NA\n",
              "pydevd_plugins                              NA\n",
              "pydevd_tracing                              NA\n",
              "pydot_ng                                    2.0.0\n",
              "pygments                                    2.6.1\n",
              "pyparsing                                   3.0.9\n",
              "pytz                                        2022.4\n",
              "requests                                    2.23.0\n",
              "rsa                                         4.9\n",
              "sitecustomize                               NA\n",
              "six                                         1.15.0\n",
              "socks                                       1.7.1\n",
              "sphinxcontrib                               NA\n",
              "statsmodels                                 0.12.2\n",
              "storemagic                                  NA\n",
              "tblib                                       1.7.0\n",
              "tensorboard                                 2.9.1\n",
              "tensorflow                                  2.9.2\n",
              "termcolor                                   NA\n",
              "threadpoolctl                               3.1.0\n",
              "torch_scatter                               2.0.9\n",
              "torch_sparse                                0.6.15\n",
              "tornado                                     5.1.1\n",
              "traitlets                                   5.1.1\n",
              "typing_extensions                           NA\n",
              "uritemplate                                 3.0.1\n",
              "urllib3                                     1.24.3\n",
              "wcwidth                                     0.2.5\n",
              "wrapt                                       1.14.1\n",
              "zipp                                        NA\n",
              "zmq                                         23.2.1\n",
              "</pre>\n",
              "</details> <!-- seems like this ends pre, so might as well be explicit -->\n",
              "<pre>\n",
              "-----\n",
              "IPython             7.9.0\n",
              "jupyter_client      6.1.12\n",
              "jupyter_core        4.11.1\n",
              "notebook            5.5.0\n",
              "-----\n",
              "Python 3.7.15 (default, Oct 12 2022, 19:14:55) [GCC 7.5.0]\n",
              "Linux-5.10.133+-x86_64-with-Ubuntu-18.04-bionic\n",
              "-----\n",
              "Session information updated at 2022-10-21 15:13\n",
              "</pre>\n",
              "</details>"
            ],
            "text/plain": [
              "<IPython.core.display.HTML object>"
            ]
          },
          "execution_count": 263,
          "metadata": {},
          "output_type": "execute_result"
        }
      ],
      "source": [
        "session_info.show()"
      ]
    },
    {
      "cell_type": "markdown",
      "metadata": {
        "id": "Eff4bd4IEjUp"
      },
      "source": [
        "# **I- EDA**"
      ]
    },
    {
      "cell_type": "code",
      "execution_count": 10,
      "metadata": {
        "id": "rR3yZyMZlCSv"
      },
      "outputs": [],
      "source": [
        "mal_ips = pd.read_csv(\"data/malicious_ips.csv\")\n",
        "auto_sys = pd.read_csv(\"data/autonomous_systems.csv\")\n",
        "watchers = pd.read_csv(\"data/watchers.csv\")"
      ]
    },
    {
      "cell_type": "code",
      "execution_count": 11,
      "metadata": {
        "colab": {
          "base_uri": "https://localhost:8080/",
          "height": 143
        },
        "id": "jWkyX_yzlVoh",
        "outputId": "ee24369c-0296-4106-86b0-f97e3fce0cae"
      },
      "outputs": [
        {
          "data": {
            "text/html": [
              "\n",
              "  <div id=\"df-0ae60896-1635-4558-b748-85490486699c\">\n",
              "    <div class=\"colab-df-container\">\n",
              "      <div>\n",
              "<style scoped>\n",
              "    .dataframe tbody tr th:only-of-type {\n",
              "        vertical-align: middle;\n",
              "    }\n",
              "\n",
              "    .dataframe tbody tr th {\n",
              "        vertical-align: top;\n",
              "    }\n",
              "\n",
              "    .dataframe thead th {\n",
              "        text-align: right;\n",
              "    }\n",
              "</style>\n",
              "<table border=\"1\" class=\"dataframe\">\n",
              "  <thead>\n",
              "    <tr style=\"text-align: right;\">\n",
              "      <th></th>\n",
              "      <th>id</th>\n",
              "      <th>unique_watcher_reported</th>\n",
              "      <th>attack_type</th>\n",
              "      <th>is_validated</th>\n",
              "      <th>as_num</th>\n",
              "    </tr>\n",
              "  </thead>\n",
              "  <tbody>\n",
              "    <tr>\n",
              "      <th>0</th>\n",
              "      <td>3</td>\n",
              "      <td>{21}</td>\n",
              "      <td>Exploit</td>\n",
              "      <td>NaN</td>\n",
              "      <td>16509.0</td>\n",
              "    </tr>\n",
              "    <tr>\n",
              "      <th>1</th>\n",
              "      <td>4</td>\n",
              "      <td>{25}</td>\n",
              "      <td>Exploit</td>\n",
              "      <td>NaN</td>\n",
              "      <td>16509.0</td>\n",
              "    </tr>\n",
              "    <tr>\n",
              "      <th>2</th>\n",
              "      <td>9</td>\n",
              "      <td>{20354, 3587, 83714, 34181, 33423, 52497, 786,...</td>\n",
              "      <td>Bruteforce</td>\n",
              "      <td>True</td>\n",
              "      <td>206728.0</td>\n",
              "    </tr>\n",
              "  </tbody>\n",
              "</table>\n",
              "</div>\n",
              "      <button class=\"colab-df-convert\" onclick=\"convertToInteractive('df-0ae60896-1635-4558-b748-85490486699c')\"\n",
              "              title=\"Convert this dataframe to an interactive table.\"\n",
              "              style=\"display:none;\">\n",
              "        \n",
              "  <svg xmlns=\"http://www.w3.org/2000/svg\" height=\"24px\"viewBox=\"0 0 24 24\"\n",
              "       width=\"24px\">\n",
              "    <path d=\"M0 0h24v24H0V0z\" fill=\"none\"/>\n",
              "    <path d=\"M18.56 5.44l.94 2.06.94-2.06 2.06-.94-2.06-.94-.94-2.06-.94 2.06-2.06.94zm-11 1L8.5 8.5l.94-2.06 2.06-.94-2.06-.94L8.5 2.5l-.94 2.06-2.06.94zm10 10l.94 2.06.94-2.06 2.06-.94-2.06-.94-.94-2.06-.94 2.06-2.06.94z\"/><path d=\"M17.41 7.96l-1.37-1.37c-.4-.4-.92-.59-1.43-.59-.52 0-1.04.2-1.43.59L10.3 9.45l-7.72 7.72c-.78.78-.78 2.05 0 2.83L4 21.41c.39.39.9.59 1.41.59.51 0 1.02-.2 1.41-.59l7.78-7.78 2.81-2.81c.8-.78.8-2.07 0-2.86zM5.41 20L4 18.59l7.72-7.72 1.47 1.35L5.41 20z\"/>\n",
              "  </svg>\n",
              "      </button>\n",
              "      \n",
              "  <style>\n",
              "    .colab-df-container {\n",
              "      display:flex;\n",
              "      flex-wrap:wrap;\n",
              "      gap: 12px;\n",
              "    }\n",
              "\n",
              "    .colab-df-convert {\n",
              "      background-color: #E8F0FE;\n",
              "      border: none;\n",
              "      border-radius: 50%;\n",
              "      cursor: pointer;\n",
              "      display: none;\n",
              "      fill: #1967D2;\n",
              "      height: 32px;\n",
              "      padding: 0 0 0 0;\n",
              "      width: 32px;\n",
              "    }\n",
              "\n",
              "    .colab-df-convert:hover {\n",
              "      background-color: #E2EBFA;\n",
              "      box-shadow: 0px 1px 2px rgba(60, 64, 67, 0.3), 0px 1px 3px 1px rgba(60, 64, 67, 0.15);\n",
              "      fill: #174EA6;\n",
              "    }\n",
              "\n",
              "    [theme=dark] .colab-df-convert {\n",
              "      background-color: #3B4455;\n",
              "      fill: #D2E3FC;\n",
              "    }\n",
              "\n",
              "    [theme=dark] .colab-df-convert:hover {\n",
              "      background-color: #434B5C;\n",
              "      box-shadow: 0px 1px 3px 1px rgba(0, 0, 0, 0.15);\n",
              "      filter: drop-shadow(0px 1px 2px rgba(0, 0, 0, 0.3));\n",
              "      fill: #FFFFFF;\n",
              "    }\n",
              "  </style>\n",
              "\n",
              "      <script>\n",
              "        const buttonEl =\n",
              "          document.querySelector('#df-0ae60896-1635-4558-b748-85490486699c button.colab-df-convert');\n",
              "        buttonEl.style.display =\n",
              "          google.colab.kernel.accessAllowed ? 'block' : 'none';\n",
              "\n",
              "        async function convertToInteractive(key) {\n",
              "          const element = document.querySelector('#df-0ae60896-1635-4558-b748-85490486699c');\n",
              "          const dataTable =\n",
              "            await google.colab.kernel.invokeFunction('convertToInteractive',\n",
              "                                                     [key], {});\n",
              "          if (!dataTable) return;\n",
              "\n",
              "          const docLinkHtml = 'Like what you see? Visit the ' +\n",
              "            '<a target=\"_blank\" href=https://colab.research.google.com/notebooks/data_table.ipynb>data table notebook</a>'\n",
              "            + ' to learn more about interactive tables.';\n",
              "          element.innerHTML = '';\n",
              "          dataTable['output_type'] = 'display_data';\n",
              "          await google.colab.output.renderOutput(dataTable, element);\n",
              "          const docLink = document.createElement('div');\n",
              "          docLink.innerHTML = docLinkHtml;\n",
              "          element.appendChild(docLink);\n",
              "        }\n",
              "      </script>\n",
              "    </div>\n",
              "  </div>\n",
              "  "
            ],
            "text/plain": [
              "   id                            unique_watcher_reported attack_type  \\\n",
              "0   3                                               {21}     Exploit   \n",
              "1   4                                               {25}     Exploit   \n",
              "2   9  {20354, 3587, 83714, 34181, 33423, 52497, 786,...  Bruteforce   \n",
              "\n",
              "  is_validated    as_num  \n",
              "0          NaN   16509.0  \n",
              "1          NaN   16509.0  \n",
              "2         True  206728.0  "
            ]
          },
          "execution_count": 11,
          "metadata": {},
          "output_type": "execute_result"
        }
      ],
      "source": [
        "mal_ips.head(3)"
      ]
    },
    {
      "cell_type": "code",
      "execution_count": 12,
      "metadata": {
        "colab": {
          "base_uri": "https://localhost:8080/",
          "height": 143
        },
        "id": "nnj3mg4NvfCe",
        "outputId": "25364811-4de4-4938-a1b6-95d4ff1cc406"
      },
      "outputs": [
        {
          "data": {
            "text/html": [
              "\n",
              "  <div id=\"df-941694e2-a64b-4649-8049-ace2e802a23f\">\n",
              "    <div class=\"colab-df-container\">\n",
              "      <div>\n",
              "<style scoped>\n",
              "    .dataframe tbody tr th:only-of-type {\n",
              "        vertical-align: middle;\n",
              "    }\n",
              "\n",
              "    .dataframe tbody tr th {\n",
              "        vertical-align: top;\n",
              "    }\n",
              "\n",
              "    .dataframe thead th {\n",
              "        text-align: right;\n",
              "    }\n",
              "</style>\n",
              "<table border=\"1\" class=\"dataframe\">\n",
              "  <thead>\n",
              "    <tr style=\"text-align: right;\">\n",
              "      <th></th>\n",
              "      <th>as_num</th>\n",
              "      <th>n_ips_reported</th>\n",
              "      <th>as_name</th>\n",
              "    </tr>\n",
              "  </thead>\n",
              "  <tbody>\n",
              "    <tr>\n",
              "      <th>0</th>\n",
              "      <td>3320</td>\n",
              "      <td>55294</td>\n",
              "      <td>Deutsche Telekom AG</td>\n",
              "    </tr>\n",
              "    <tr>\n",
              "      <th>1</th>\n",
              "      <td>4134</td>\n",
              "      <td>39891</td>\n",
              "      <td>Chinanet</td>\n",
              "    </tr>\n",
              "    <tr>\n",
              "      <th>2</th>\n",
              "      <td>16509</td>\n",
              "      <td>30914</td>\n",
              "      <td>AMAZON-02</td>\n",
              "    </tr>\n",
              "  </tbody>\n",
              "</table>\n",
              "</div>\n",
              "      <button class=\"colab-df-convert\" onclick=\"convertToInteractive('df-941694e2-a64b-4649-8049-ace2e802a23f')\"\n",
              "              title=\"Convert this dataframe to an interactive table.\"\n",
              "              style=\"display:none;\">\n",
              "        \n",
              "  <svg xmlns=\"http://www.w3.org/2000/svg\" height=\"24px\"viewBox=\"0 0 24 24\"\n",
              "       width=\"24px\">\n",
              "    <path d=\"M0 0h24v24H0V0z\" fill=\"none\"/>\n",
              "    <path d=\"M18.56 5.44l.94 2.06.94-2.06 2.06-.94-2.06-.94-.94-2.06-.94 2.06-2.06.94zm-11 1L8.5 8.5l.94-2.06 2.06-.94-2.06-.94L8.5 2.5l-.94 2.06-2.06.94zm10 10l.94 2.06.94-2.06 2.06-.94-2.06-.94-.94-2.06-.94 2.06-2.06.94z\"/><path d=\"M17.41 7.96l-1.37-1.37c-.4-.4-.92-.59-1.43-.59-.52 0-1.04.2-1.43.59L10.3 9.45l-7.72 7.72c-.78.78-.78 2.05 0 2.83L4 21.41c.39.39.9.59 1.41.59.51 0 1.02-.2 1.41-.59l7.78-7.78 2.81-2.81c.8-.78.8-2.07 0-2.86zM5.41 20L4 18.59l7.72-7.72 1.47 1.35L5.41 20z\"/>\n",
              "  </svg>\n",
              "      </button>\n",
              "      \n",
              "  <style>\n",
              "    .colab-df-container {\n",
              "      display:flex;\n",
              "      flex-wrap:wrap;\n",
              "      gap: 12px;\n",
              "    }\n",
              "\n",
              "    .colab-df-convert {\n",
              "      background-color: #E8F0FE;\n",
              "      border: none;\n",
              "      border-radius: 50%;\n",
              "      cursor: pointer;\n",
              "      display: none;\n",
              "      fill: #1967D2;\n",
              "      height: 32px;\n",
              "      padding: 0 0 0 0;\n",
              "      width: 32px;\n",
              "    }\n",
              "\n",
              "    .colab-df-convert:hover {\n",
              "      background-color: #E2EBFA;\n",
              "      box-shadow: 0px 1px 2px rgba(60, 64, 67, 0.3), 0px 1px 3px 1px rgba(60, 64, 67, 0.15);\n",
              "      fill: #174EA6;\n",
              "    }\n",
              "\n",
              "    [theme=dark] .colab-df-convert {\n",
              "      background-color: #3B4455;\n",
              "      fill: #D2E3FC;\n",
              "    }\n",
              "\n",
              "    [theme=dark] .colab-df-convert:hover {\n",
              "      background-color: #434B5C;\n",
              "      box-shadow: 0px 1px 3px 1px rgba(0, 0, 0, 0.15);\n",
              "      filter: drop-shadow(0px 1px 2px rgba(0, 0, 0, 0.3));\n",
              "      fill: #FFFFFF;\n",
              "    }\n",
              "  </style>\n",
              "\n",
              "      <script>\n",
              "        const buttonEl =\n",
              "          document.querySelector('#df-941694e2-a64b-4649-8049-ace2e802a23f button.colab-df-convert');\n",
              "        buttonEl.style.display =\n",
              "          google.colab.kernel.accessAllowed ? 'block' : 'none';\n",
              "\n",
              "        async function convertToInteractive(key) {\n",
              "          const element = document.querySelector('#df-941694e2-a64b-4649-8049-ace2e802a23f');\n",
              "          const dataTable =\n",
              "            await google.colab.kernel.invokeFunction('convertToInteractive',\n",
              "                                                     [key], {});\n",
              "          if (!dataTable) return;\n",
              "\n",
              "          const docLinkHtml = 'Like what you see? Visit the ' +\n",
              "            '<a target=\"_blank\" href=https://colab.research.google.com/notebooks/data_table.ipynb>data table notebook</a>'\n",
              "            + ' to learn more about interactive tables.';\n",
              "          element.innerHTML = '';\n",
              "          dataTable['output_type'] = 'display_data';\n",
              "          await google.colab.output.renderOutput(dataTable, element);\n",
              "          const docLink = document.createElement('div');\n",
              "          docLink.innerHTML = docLinkHtml;\n",
              "          element.appendChild(docLink);\n",
              "        }\n",
              "      </script>\n",
              "    </div>\n",
              "  </div>\n",
              "  "
            ],
            "text/plain": [
              "   as_num  n_ips_reported              as_name\n",
              "0    3320           55294  Deutsche Telekom AG\n",
              "1    4134           39891             Chinanet\n",
              "2   16509           30914            AMAZON-02"
            ]
          },
          "execution_count": 12,
          "metadata": {},
          "output_type": "execute_result"
        }
      ],
      "source": [
        "auto_sys.head(3)"
      ]
    },
    {
      "cell_type": "code",
      "execution_count": 13,
      "metadata": {
        "colab": {
          "base_uri": "https://localhost:8080/",
          "height": 143
        },
        "id": "ukyQApqVvjpI",
        "outputId": "258ad284-9575-4120-92d6-14f4ee9427a1"
      },
      "outputs": [
        {
          "data": {
            "text/html": [
              "\n",
              "  <div id=\"df-6b32c6a3-c630-4427-aac3-fa9da9afa82d\">\n",
              "    <div class=\"colab-df-container\">\n",
              "      <div>\n",
              "<style scoped>\n",
              "    .dataframe tbody tr th:only-of-type {\n",
              "        vertical-align: middle;\n",
              "    }\n",
              "\n",
              "    .dataframe tbody tr th {\n",
              "        vertical-align: top;\n",
              "    }\n",
              "\n",
              "    .dataframe thead th {\n",
              "        text-align: right;\n",
              "    }\n",
              "</style>\n",
              "<table border=\"1\" class=\"dataframe\">\n",
              "  <thead>\n",
              "    <tr style=\"text-align: right;\">\n",
              "      <th></th>\n",
              "      <th>id</th>\n",
              "      <th>age_in_days</th>\n",
              "      <th>activity_in_days</th>\n",
              "      <th>hp_overlap_rate</th>\n",
              "      <th>n_ips_reported</th>\n",
              "    </tr>\n",
              "  </thead>\n",
              "  <tbody>\n",
              "    <tr>\n",
              "      <th>0</th>\n",
              "      <td>42266</td>\n",
              "      <td>116</td>\n",
              "      <td>116</td>\n",
              "      <td>0.04</td>\n",
              "      <td>3636</td>\n",
              "    </tr>\n",
              "    <tr>\n",
              "      <th>1</th>\n",
              "      <td>11213</td>\n",
              "      <td>211</td>\n",
              "      <td>157</td>\n",
              "      <td>0.31</td>\n",
              "      <td>1555</td>\n",
              "    </tr>\n",
              "    <tr>\n",
              "      <th>2</th>\n",
              "      <td>87345</td>\n",
              "      <td>30</td>\n",
              "      <td>28</td>\n",
              "      <td>0.09</td>\n",
              "      <td>70</td>\n",
              "    </tr>\n",
              "  </tbody>\n",
              "</table>\n",
              "</div>\n",
              "      <button class=\"colab-df-convert\" onclick=\"convertToInteractive('df-6b32c6a3-c630-4427-aac3-fa9da9afa82d')\"\n",
              "              title=\"Convert this dataframe to an interactive table.\"\n",
              "              style=\"display:none;\">\n",
              "        \n",
              "  <svg xmlns=\"http://www.w3.org/2000/svg\" height=\"24px\"viewBox=\"0 0 24 24\"\n",
              "       width=\"24px\">\n",
              "    <path d=\"M0 0h24v24H0V0z\" fill=\"none\"/>\n",
              "    <path d=\"M18.56 5.44l.94 2.06.94-2.06 2.06-.94-2.06-.94-.94-2.06-.94 2.06-2.06.94zm-11 1L8.5 8.5l.94-2.06 2.06-.94-2.06-.94L8.5 2.5l-.94 2.06-2.06.94zm10 10l.94 2.06.94-2.06 2.06-.94-2.06-.94-.94-2.06-.94 2.06-2.06.94z\"/><path d=\"M17.41 7.96l-1.37-1.37c-.4-.4-.92-.59-1.43-.59-.52 0-1.04.2-1.43.59L10.3 9.45l-7.72 7.72c-.78.78-.78 2.05 0 2.83L4 21.41c.39.39.9.59 1.41.59.51 0 1.02-.2 1.41-.59l7.78-7.78 2.81-2.81c.8-.78.8-2.07 0-2.86zM5.41 20L4 18.59l7.72-7.72 1.47 1.35L5.41 20z\"/>\n",
              "  </svg>\n",
              "      </button>\n",
              "      \n",
              "  <style>\n",
              "    .colab-df-container {\n",
              "      display:flex;\n",
              "      flex-wrap:wrap;\n",
              "      gap: 12px;\n",
              "    }\n",
              "\n",
              "    .colab-df-convert {\n",
              "      background-color: #E8F0FE;\n",
              "      border: none;\n",
              "      border-radius: 50%;\n",
              "      cursor: pointer;\n",
              "      display: none;\n",
              "      fill: #1967D2;\n",
              "      height: 32px;\n",
              "      padding: 0 0 0 0;\n",
              "      width: 32px;\n",
              "    }\n",
              "\n",
              "    .colab-df-convert:hover {\n",
              "      background-color: #E2EBFA;\n",
              "      box-shadow: 0px 1px 2px rgba(60, 64, 67, 0.3), 0px 1px 3px 1px rgba(60, 64, 67, 0.15);\n",
              "      fill: #174EA6;\n",
              "    }\n",
              "\n",
              "    [theme=dark] .colab-df-convert {\n",
              "      background-color: #3B4455;\n",
              "      fill: #D2E3FC;\n",
              "    }\n",
              "\n",
              "    [theme=dark] .colab-df-convert:hover {\n",
              "      background-color: #434B5C;\n",
              "      box-shadow: 0px 1px 3px 1px rgba(0, 0, 0, 0.15);\n",
              "      filter: drop-shadow(0px 1px 2px rgba(0, 0, 0, 0.3));\n",
              "      fill: #FFFFFF;\n",
              "    }\n",
              "  </style>\n",
              "\n",
              "      <script>\n",
              "        const buttonEl =\n",
              "          document.querySelector('#df-6b32c6a3-c630-4427-aac3-fa9da9afa82d button.colab-df-convert');\n",
              "        buttonEl.style.display =\n",
              "          google.colab.kernel.accessAllowed ? 'block' : 'none';\n",
              "\n",
              "        async function convertToInteractive(key) {\n",
              "          const element = document.querySelector('#df-6b32c6a3-c630-4427-aac3-fa9da9afa82d');\n",
              "          const dataTable =\n",
              "            await google.colab.kernel.invokeFunction('convertToInteractive',\n",
              "                                                     [key], {});\n",
              "          if (!dataTable) return;\n",
              "\n",
              "          const docLinkHtml = 'Like what you see? Visit the ' +\n",
              "            '<a target=\"_blank\" href=https://colab.research.google.com/notebooks/data_table.ipynb>data table notebook</a>'\n",
              "            + ' to learn more about interactive tables.';\n",
              "          element.innerHTML = '';\n",
              "          dataTable['output_type'] = 'display_data';\n",
              "          await google.colab.output.renderOutput(dataTable, element);\n",
              "          const docLink = document.createElement('div');\n",
              "          docLink.innerHTML = docLinkHtml;\n",
              "          element.appendChild(docLink);\n",
              "        }\n",
              "      </script>\n",
              "    </div>\n",
              "  </div>\n",
              "  "
            ],
            "text/plain": [
              "      id  age_in_days  activity_in_days  hp_overlap_rate  n_ips_reported\n",
              "0  42266          116               116             0.04            3636\n",
              "1  11213          211               157             0.31            1555\n",
              "2  87345           30                28             0.09              70"
            ]
          },
          "execution_count": 13,
          "metadata": {},
          "output_type": "execute_result"
        }
      ],
      "source": [
        "watchers.head(3)\n"
      ]
    },
    {
      "cell_type": "markdown",
      "metadata": {
        "id": "wDVFM78cDC4p"
      },
      "source": [
        "**Let's try to join `mal_ips` data frame with `auto_sys` with an outer join on `as_num`, since it can give us more informations about the AS of the malicious IPs.**"
      ]
    },
    {
      "cell_type": "code",
      "execution_count": 14,
      "metadata": {
        "colab": {
          "base_uri": "https://localhost:8080/"
        },
        "id": "ty9hgl13Gx6l",
        "outputId": "5b57d3ec-c304-43ac-9150-ad7ceac64214"
      },
      "outputs": [
        {
          "data": {
            "text/plain": [
              "((15161, 3), (29187, 5))"
            ]
          },
          "execution_count": 14,
          "metadata": {},
          "output_type": "execute_result"
        }
      ],
      "source": [
        "#comparing between the data frames\n",
        "auto_sys.shape,mal_ips.shape"
      ]
    },
    {
      "cell_type": "markdown",
      "metadata": {
        "id": "ics8rt-GDjFT"
      },
      "source": [
        "First, trying to inspect the missing values in `auto_sys` data frame."
      ]
    },
    {
      "cell_type": "code",
      "execution_count": 15,
      "metadata": {
        "colab": {
          "base_uri": "https://localhost:8080/"
        },
        "id": "g3vp96zyGkCO",
        "outputId": "66606889-c8a1-43fc-957f-2512d59e5b73"
      },
      "outputs": [
        {
          "data": {
            "text/plain": [
              "as_num            0\n",
              "n_ips_reported    0\n",
              "as_name           1\n",
              "dtype: int64"
            ]
          },
          "execution_count": 15,
          "metadata": {},
          "output_type": "execute_result"
        }
      ],
      "source": [
        "auto_sys.isna().sum()"
      ]
    },
    {
      "cell_type": "code",
      "execution_count": 16,
      "metadata": {
        "colab": {
          "base_uri": "https://localhost:8080/"
        },
        "id": "no-_wkhxIS8d",
        "outputId": "9bfa9013-fef6-4cf1-834e-388c5fbc3c90"
      },
      "outputs": [
        {
          "data": {
            "text/plain": [
              "29173"
            ]
          },
          "execution_count": 16,
          "metadata": {},
          "output_type": "execute_result"
        }
      ],
      "source": [
        "#Check for the common AS between data frames.\n",
        "len(mal_ips[mal_ips['as_num'].isin(auto_sys['as_num'].value_counts()[auto_sys['as_num'].value_counts()==1].index)])"
      ]
    },
    {
      "cell_type": "markdown",
      "metadata": {
        "id": "yeOEs8WgEaMi"
      },
      "source": [
        "***We can notice that a few rows (14) will be droped after the join due their unknown AS***"
      ]
    },
    {
      "cell_type": "markdown",
      "metadata": {
        "id": "P7w4kao9GThn"
      },
      "source": [
        "______________________"
      ]
    },
    {
      "cell_type": "markdown",
      "metadata": {
        "id": "DJKAOysiE-cr"
      },
      "source": [
        "## **Data preprocessing**\n",
        "### Data join"
      ]
    },
    {
      "cell_type": "code",
      "execution_count": 145,
      "metadata": {
        "colab": {
          "base_uri": "https://localhost:8080/",
          "height": 143
        },
        "id": "ZQsNUPRKFetu",
        "outputId": "9274c305-3e3b-4644-a447-659848d3ed67"
      },
      "outputs": [
        {
          "data": {
            "text/html": [
              "\n",
              "  <div id=\"df-3a43b6ba-b4c1-44b2-9b8b-cb6d24422bdb\">\n",
              "    <div class=\"colab-df-container\">\n",
              "      <div>\n",
              "<style scoped>\n",
              "    .dataframe tbody tr th:only-of-type {\n",
              "        vertical-align: middle;\n",
              "    }\n",
              "\n",
              "    .dataframe tbody tr th {\n",
              "        vertical-align: top;\n",
              "    }\n",
              "\n",
              "    .dataframe thead th {\n",
              "        text-align: right;\n",
              "    }\n",
              "</style>\n",
              "<table border=\"1\" class=\"dataframe\">\n",
              "  <thead>\n",
              "    <tr style=\"text-align: right;\">\n",
              "      <th></th>\n",
              "      <th>id</th>\n",
              "      <th>unique_watcher_reported</th>\n",
              "      <th>attack_type</th>\n",
              "      <th>is_validated</th>\n",
              "      <th>as_num</th>\n",
              "      <th>n_ips_reported</th>\n",
              "      <th>as_name</th>\n",
              "    </tr>\n",
              "  </thead>\n",
              "  <tbody>\n",
              "    <tr>\n",
              "      <th>0</th>\n",
              "      <td>3</td>\n",
              "      <td>{21}</td>\n",
              "      <td>Exploit</td>\n",
              "      <td>NaN</td>\n",
              "      <td>16509.0</td>\n",
              "      <td>30914.0</td>\n",
              "      <td>AMAZON-02</td>\n",
              "    </tr>\n",
              "    <tr>\n",
              "      <th>1</th>\n",
              "      <td>4</td>\n",
              "      <td>{25}</td>\n",
              "      <td>Exploit</td>\n",
              "      <td>NaN</td>\n",
              "      <td>16509.0</td>\n",
              "      <td>30914.0</td>\n",
              "      <td>AMAZON-02</td>\n",
              "    </tr>\n",
              "    <tr>\n",
              "      <th>2</th>\n",
              "      <td>9</td>\n",
              "      <td>{20354, 3587, 83714, 34181, 33423, 52497, 786,...</td>\n",
              "      <td>Bruteforce</td>\n",
              "      <td>True</td>\n",
              "      <td>206728.0</td>\n",
              "      <td>14.0</td>\n",
              "      <td>Media Land LLC</td>\n",
              "    </tr>\n",
              "  </tbody>\n",
              "</table>\n",
              "</div>\n",
              "      <button class=\"colab-df-convert\" onclick=\"convertToInteractive('df-3a43b6ba-b4c1-44b2-9b8b-cb6d24422bdb')\"\n",
              "              title=\"Convert this dataframe to an interactive table.\"\n",
              "              style=\"display:none;\">\n",
              "        \n",
              "  <svg xmlns=\"http://www.w3.org/2000/svg\" height=\"24px\"viewBox=\"0 0 24 24\"\n",
              "       width=\"24px\">\n",
              "    <path d=\"M0 0h24v24H0V0z\" fill=\"none\"/>\n",
              "    <path d=\"M18.56 5.44l.94 2.06.94-2.06 2.06-.94-2.06-.94-.94-2.06-.94 2.06-2.06.94zm-11 1L8.5 8.5l.94-2.06 2.06-.94-2.06-.94L8.5 2.5l-.94 2.06-2.06.94zm10 10l.94 2.06.94-2.06 2.06-.94-2.06-.94-.94-2.06-.94 2.06-2.06.94z\"/><path d=\"M17.41 7.96l-1.37-1.37c-.4-.4-.92-.59-1.43-.59-.52 0-1.04.2-1.43.59L10.3 9.45l-7.72 7.72c-.78.78-.78 2.05 0 2.83L4 21.41c.39.39.9.59 1.41.59.51 0 1.02-.2 1.41-.59l7.78-7.78 2.81-2.81c.8-.78.8-2.07 0-2.86zM5.41 20L4 18.59l7.72-7.72 1.47 1.35L5.41 20z\"/>\n",
              "  </svg>\n",
              "      </button>\n",
              "      \n",
              "  <style>\n",
              "    .colab-df-container {\n",
              "      display:flex;\n",
              "      flex-wrap:wrap;\n",
              "      gap: 12px;\n",
              "    }\n",
              "\n",
              "    .colab-df-convert {\n",
              "      background-color: #E8F0FE;\n",
              "      border: none;\n",
              "      border-radius: 50%;\n",
              "      cursor: pointer;\n",
              "      display: none;\n",
              "      fill: #1967D2;\n",
              "      height: 32px;\n",
              "      padding: 0 0 0 0;\n",
              "      width: 32px;\n",
              "    }\n",
              "\n",
              "    .colab-df-convert:hover {\n",
              "      background-color: #E2EBFA;\n",
              "      box-shadow: 0px 1px 2px rgba(60, 64, 67, 0.3), 0px 1px 3px 1px rgba(60, 64, 67, 0.15);\n",
              "      fill: #174EA6;\n",
              "    }\n",
              "\n",
              "    [theme=dark] .colab-df-convert {\n",
              "      background-color: #3B4455;\n",
              "      fill: #D2E3FC;\n",
              "    }\n",
              "\n",
              "    [theme=dark] .colab-df-convert:hover {\n",
              "      background-color: #434B5C;\n",
              "      box-shadow: 0px 1px 3px 1px rgba(0, 0, 0, 0.15);\n",
              "      filter: drop-shadow(0px 1px 2px rgba(0, 0, 0, 0.3));\n",
              "      fill: #FFFFFF;\n",
              "    }\n",
              "  </style>\n",
              "\n",
              "      <script>\n",
              "        const buttonEl =\n",
              "          document.querySelector('#df-3a43b6ba-b4c1-44b2-9b8b-cb6d24422bdb button.colab-df-convert');\n",
              "        buttonEl.style.display =\n",
              "          google.colab.kernel.accessAllowed ? 'block' : 'none';\n",
              "\n",
              "        async function convertToInteractive(key) {\n",
              "          const element = document.querySelector('#df-3a43b6ba-b4c1-44b2-9b8b-cb6d24422bdb');\n",
              "          const dataTable =\n",
              "            await google.colab.kernel.invokeFunction('convertToInteractive',\n",
              "                                                     [key], {});\n",
              "          if (!dataTable) return;\n",
              "\n",
              "          const docLinkHtml = 'Like what you see? Visit the ' +\n",
              "            '<a target=\"_blank\" href=https://colab.research.google.com/notebooks/data_table.ipynb>data table notebook</a>'\n",
              "            + ' to learn more about interactive tables.';\n",
              "          element.innerHTML = '';\n",
              "          dataTable['output_type'] = 'display_data';\n",
              "          await google.colab.output.renderOutput(dataTable, element);\n",
              "          const docLink = document.createElement('div');\n",
              "          docLink.innerHTML = docLinkHtml;\n",
              "          element.appendChild(docLink);\n",
              "        }\n",
              "      </script>\n",
              "    </div>\n",
              "  </div>\n",
              "  "
            ],
            "text/plain": [
              "   id                            unique_watcher_reported attack_type  \\\n",
              "0   3                                               {21}     Exploit   \n",
              "1   4                                               {25}     Exploit   \n",
              "2   9  {20354, 3587, 83714, 34181, 33423, 52497, 786,...  Bruteforce   \n",
              "\n",
              "  is_validated    as_num  n_ips_reported         as_name  \n",
              "0          NaN   16509.0         30914.0       AMAZON-02  \n",
              "1          NaN   16509.0         30914.0       AMAZON-02  \n",
              "2         True  206728.0            14.0  Media Land LLC  "
            ]
          },
          "execution_count": 145,
          "metadata": {},
          "output_type": "execute_result"
        }
      ],
      "source": [
        "df = mal_ips.join(auto_sys.set_index('as_num'),on='as_num')\n",
        "df.head(3)"
      ]
    },
    {
      "cell_type": "code",
      "execution_count": 146,
      "metadata": {
        "colab": {
          "base_uri": "https://localhost:8080/"
        },
        "id": "nglPFEJzl9PH",
        "outputId": "a090fcff-077d-463b-d7f4-bb9204d2cdf2"
      },
      "outputs": [
        {
          "data": {
            "text/plain": [
              "id                             0\n",
              "unique_watcher_reported        0\n",
              "attack_type                    0\n",
              "is_validated               25991\n",
              "as_num                         1\n",
              "n_ips_reported                14\n",
              "as_name                       14\n",
              "dtype: int64"
            ]
          },
          "execution_count": 146,
          "metadata": {},
          "output_type": "execute_result"
        }
      ],
      "source": [
        "df.isna().sum()"
      ]
    },
    {
      "cell_type": "code",
      "execution_count": 147,
      "metadata": {
        "colab": {
          "base_uri": "https://localhost:8080/"
        },
        "id": "qOw5R5D7mKC_",
        "outputId": "f2c7f947-f3f4-4213-a0ad-3a4ecaaf36b5"
      },
      "outputs": [
        {
          "data": {
            "text/plain": [
              "(29173, 7)"
            ]
          },
          "execution_count": 147,
          "metadata": {},
          "output_type": "execute_result"
        }
      ],
      "source": [
        "#Drop nan\n",
        "df = df.dropna(subset=[\"as_name\"])\n",
        "df.shape"
      ]
    },
    {
      "cell_type": "code",
      "execution_count": 148,
      "metadata": {
        "colab": {
          "base_uri": "https://localhost:8080/"
        },
        "id": "QCUH2jN8nGhu",
        "outputId": "8fcf7fdc-dc9e-451d-ceda-1ba8980f90a5"
      },
      "outputs": [
        {
          "data": {
            "text/plain": [
              "True"
            ]
          },
          "execution_count": 148,
          "metadata": {},
          "output_type": "execute_result"
        }
      ],
      "source": [
        "#Check that the IDs are unique\n",
        "mal_ips.id.is_unique"
      ]
    },
    {
      "cell_type": "markdown",
      "metadata": {
        "id": "-eh-dyMlF7cE"
      },
      "source": [
        "## **Feature engineering**"
      ]
    },
    {
      "cell_type": "code",
      "execution_count": 149,
      "metadata": {
        "id": "WbgusgWEBCIC"
      },
      "outputs": [],
      "source": [
        "#Label encoder for the attack type\n",
        "le = LabelEncoder()\n",
        "df['attack_type']=le.fit_transform(df['attack_type'])"
      ]
    },
    {
      "cell_type": "code",
      "execution_count": 150,
      "metadata": {
        "colab": {
          "base_uri": "https://localhost:8080/",
          "height": 282
        },
        "id": "yiF08vVYLiKD",
        "outputId": "27627c32-f743-432f-b3b3-25c418ac994c"
      },
      "outputs": [
        {
          "data": {
            "image/png": "[encoded data removed]",
            "text/plain": [
              "<Figure size 432x288 with 1 Axes>"
            ]
          },
          "metadata": {
            "needs_background": "light"
          },
          "output_type": "display_data"
        }
      ],
      "source": [
        "#fontsize\n",
        "fs=14\n",
        "\n",
        "#Check the distribution of 'n° of IPs reported'\n",
        "df.n_ips_reported.hist()\n",
        "plt.title(\"Distribution of 'number of malicious IPs detected' \",fontsize = fs)\n",
        "plt.show()"
      ]
    },
    {
      "cell_type": "markdown",
      "metadata": {
        "id": "AeejLrr7GdSj"
      },
      "source": [
        "* We can notice that the data is **highly positively skewed (right-skwed)**, which prevent us to make common transformations include square root, cube root, and log .. *(Usually good for this kind of situations)*\n",
        "* **A large dynamic range**, so the standard linear scalers (min-max, Z-score normalization ..) scale could also be a bad transformation.\n",
        "* **High percentage of outliers**, even clipping and winsorizing scalers can lead us to throw away outliers, and so much informations and miss one of data quality components : Data completeness. \n",
        "\n",
        "**Solution :**\n",
        "* **Binning to 3 ordered categories**, as long as we can see 3 seperate intervals.\n",
        "* Associate the binned data with **Box-Cox transformation** *(non linear transformation).* To control heteroscedasticity so that the variance no longer depands on the magnitude, so we can equalize the variance across all ranges of the number of ips detected per as (especially that we've opted to binning data).\n"
      ]
    },
    {
      "cell_type": "code",
      "execution_count": 151,
      "metadata": {
        "id": "au4k1-l-Ekh5"
      },
      "outputs": [],
      "source": [
        "fitted_data,_ = stats.boxcox(df['n_ips_reported']) # note that `_` is the estimated parameter lambda used for Transformation\n",
        "df['n_ips_reported_bc'] = fitted_data"
      ]
    },
    {
      "cell_type": "code",
      "execution_count": 152,
      "metadata": {
        "colab": {
          "base_uri": "https://localhost:8080/",
          "height": 534
        },
        "id": "ow-nLMW-FMUg",
        "outputId": "b5e7b806-c725-48b7-b575-ee3229cef9c5"
      },
      "outputs": [
        {
          "name": "stderr",
          "output_type": "stream",
          "text": [
            "/usr/local/lib/python3.7/dist-packages/seaborn/distributions.py:2619: FutureWarning: `distplot` is a deprecated function and will be removed in a future version. Please adapt your code to use either `displot` (a figure-level function with similar flexibility) or `histplot` (an axes-level function for histograms).\n",
            "  warnings.warn(msg, FutureWarning)\n",
            "/usr/local/lib/python3.7/dist-packages/seaborn/distributions.py:2619: FutureWarning: `distplot` is a deprecated function and will be removed in a future version. Please adapt your code to use either `displot` (a figure-level function with similar flexibility) or `histplot` (an axes-level function for histograms).\n",
            "  warnings.warn(msg, FutureWarning)\n"
          ]
        },
        {
          "data": {
            "image/png": "[encoded data removed]",
            "text/plain": [
              "<Figure size 1080x504 with 2 Axes>"
            ]
          },
          "metadata": {
            "needs_background": "light"
          },
          "output_type": "display_data"
        }
      ],
      "source": [
        "fig, ax = plt.subplots(1, 2)\n",
        "\n",
        "sns.distplot(df.n_ips_reported, hist = True, kde = True,\n",
        "            kde_kws = {'shade': True, 'linewidth': 2}, color =\"red\", ax = ax[0])\n",
        " \n",
        "sns.distplot(df.n_ips_reported_bc, hist = True, kde = True,\n",
        "            kde_kws = {'shade': True, 'linewidth': 2}, color =\"darkgreen\", ax = ax[1])\n",
        "\n",
        "ax[0].set_title(\"Before transformation\" ,fontsize=fs)\n",
        "ax[1].set_title(\"After transformation\" ,fontsize=fs)\n",
        "\n",
        "ax[0].set(xlabel=None)\n",
        "ax[1].set(xlabel=None)\n",
        "\n",
        "ax[0].legend(labels=[\"original data\"],fontsize = fs)\n",
        "ax[1].legend(labels=[\"Box-Cox\"],fontsize = fs)\n",
        "\n",
        "fig.set_figheight(7)\n",
        "fig.set_figwidth(15)\n",
        "\n",
        "plt.show()"
      ]
    },
    {
      "cell_type": "code",
      "execution_count": 153,
      "metadata": {
        "colab": {
          "base_uri": "https://localhost:8080/"
        },
        "id": "DwyMn7VSi4Xy",
        "outputId": "ae7269af-4674-44d1-96da-a155953aafc0"
      },
      "outputs": [
        {
          "data": {
            "text/plain": [
              "CategoricalDtype(categories=[0, 1, 2], ordered=True)"
            ]
          },
          "execution_count": 153,
          "metadata": {},
          "output_type": "execute_result"
        }
      ],
      "source": [
        "ips_reported =df['n_ips_reported_bc']\n",
        "\n",
        "min=int(np.min(ips_reported))\n",
        "max=int(np.max(ips_reported))\n",
        "bins=np.linspace(min,max,4)\n",
        "\n",
        "df['binned_ip_reported']=pd.cut(ips_reported,bins,right=False,precision=5,labels=[0,1,2])\n",
        "df.binned_ip_reported.dtype "
      ]
    },
    {
      "cell_type": "code",
      "execution_count": 154,
      "metadata": {
        "colab": {
          "base_uri": "https://localhost:8080/"
        },
        "id": "JcoY5extnyD4",
        "outputId": "950c2aa7-a458-4a31-9d2c-9c4c0b940b3e"
      },
      "outputs": [
        {
          "data": {
            "text/plain": [
              "dtype('int64')"
            ]
          },
          "execution_count": 154,
          "metadata": {},
          "output_type": "execute_result"
        }
      ],
      "source": [
        "#Transform the type to `int` for a later machine learning algorithms who don't support `cat` type\n",
        "df['binned_ip_reported'] = pd.factorize(df['binned_ip_reported'])[0]\n",
        "df.binned_ip_reported.dtype "
      ]
    },
    {
      "cell_type": "markdown",
      "metadata": {
        "id": "AmHXLK0bLIFz"
      },
      "source": [
        "* Add a column that holds the number of watchers that reported each IP"
      ]
    },
    {
      "cell_type": "code",
      "execution_count": 155,
      "metadata": {
        "id": "esqM1t6bdauY"
      },
      "outputs": [],
      "source": [
        "#Simple replacements on `unique_watcher_reported` column\n",
        "df[\"unique_watcher_reported\"] = df[\"unique_watcher_reported\"].apply(lambda x :pd.eval(x.replace(\"{\",\"[\").replace(\"}\",\"]\")))\n",
        "\n",
        "#Count watchers\n",
        "df[\"n_watchers\"] = df[\"unique_watcher_reported\"].apply(len)"
      ]
    },
    {
      "cell_type": "markdown",
      "metadata": {
        "id": "xKwhRK1e6GAk"
      },
      "source": [
        "## 1/ **Distribution of the attack type** in terms of the number of IPs reported 📈"
      ]
    },
    {
      "cell_type": "code",
      "execution_count": 156,
      "metadata": {
        "colab": {
          "base_uri": "https://localhost:8080/",
          "height": 350
        },
        "id": "SbHR8TD7l-Zh",
        "outputId": "7a25023a-0b60-4dae-b313-b483945f7ede"
      },
      "outputs": [
        {
          "data": {
            "image/png": "[encoded data removed]",
            "text/plain": [
              "<Figure size 792x360 with 1 Axes>"
            ]
          },
          "metadata": {
            "needs_background": "light"
          },
          "output_type": "display_data"
        }
      ],
      "source": [
        "plt.figure(figsize=(11,5))\n",
        "\n",
        "ax=sns.histplot(data=mal_ips, y=\"attack_type\",binwidth=5,hue='attack_type',shrink=.9, legend=True)\n",
        "plt.title(\"attack type count\")\n",
        "plt.show()"
      ]
    },
    {
      "cell_type": "markdown",
      "metadata": {
        "id": "VxewTVYU7svn"
      },
      "source": [
        "Scanner attack is the most common one."
      ]
    },
    {
      "cell_type": "markdown",
      "metadata": {
        "id": "h2eeI_g-AFpu"
      },
      "source": [
        "## 2/ The names of the **top 10** 🔝 **AS hosting the highest number of malicious IPs**"
      ]
    },
    {
      "cell_type": "code",
      "execution_count": 157,
      "metadata": {
        "id": "HUBUM_QXMecU"
      },
      "outputs": [],
      "source": [
        "#We seperate Labeled data and Unlabeled one to get more insights about our data.\n",
        "df_valid=df.dropna(subset=['is_validated'])"
      ]
    },
    {
      "cell_type": "markdown",
      "metadata": {
        "id": "-2A9TwMl2DH4"
      },
      "source": [
        "### In general *(for the entire dataset, containing the validated and non-validated malicious IPs)* :"
      ]
    },
    {
      "cell_type": "code",
      "execution_count": 158,
      "metadata": {
        "colab": {
          "base_uri": "https://localhost:8080/"
        },
        "id": "Mkymg2PHoe86",
        "outputId": "18c90981-81de-4cf7-c2f8-9f191f9b11a2"
      },
      "outputs": [
        {
          "name": "stdout",
          "output_type": "stream",
          "text": [
            "Top 10 as with the highest number of malicious ips :\n",
            "\n",
            "Deutsche Telekom AG\n",
            "Vodafone GmbH\n",
            "Kyivstar PJSC\n",
            "Chinanet\n",
            "CLOUDFLARENET\n",
            "Hetzner Online GmbH\n",
            "Alpha Strike Labs GmbH\n",
            "DIGITALOCEAN-ASN\n",
            "Telefonica Germany\n",
            "MICROSOFT-CORP-MSN-AS-BLOCK\n"
          ]
        }
      ],
      "source": [
        "top10 = df.as_num.value_counts().nlargest(10).index\n",
        "print(\"Top 10 as with the highest number of malicious ips :\\n\")\n",
        "for id in top10 :\n",
        "    print(auto_sys[auto_sys[\"as_num\"]==id].as_name.item())"
      ]
    },
    {
      "cell_type": "markdown",
      "metadata": {
        "id": "MfhHOFc83T2M"
      },
      "source": [
        "### For the validated malicious IPs✅ only :\n",
        "\n",
        "\n"
      ]
    },
    {
      "cell_type": "code",
      "execution_count": 159,
      "metadata": {
        "colab": {
          "base_uri": "https://localhost:8080/"
        },
        "id": "Q-4n9Is6opPA",
        "outputId": "f83df70d-de20-47d1-b390-408cf30143ee"
      },
      "outputs": [
        {
          "name": "stdout",
          "output_type": "stream",
          "text": [
            "Top 10 as with the highest number of validated malicious ips :\n",
            "\n",
            "CLOUDFLARENET\n",
            "MICROSOFT-CORP-MSN-AS-BLOCK\n",
            "PONYNET\n",
            "Cia Triad Security LLC\n",
            "DIGITALOCEAN-ASN\n",
            "Alpha Strike Labs GmbH\n",
            "QUINTEX\n",
            "Chinanet\n",
            "OVH SAS\n",
            "Hetzner Online GmbH\n"
          ]
        }
      ],
      "source": [
        "top10_v = df_valid.as_num.value_counts().nlargest(10).index\n",
        "print(\"Top 10 as with the highest number of validated malicious ips :\\n\")\n",
        "for id in top10_v :\n",
        "    print(auto_sys[auto_sys[\"as_num\"]==id].as_name.item())"
      ]
    },
    {
      "cell_type": "markdown",
      "metadata": {
        "id": "HAd9edVt2XRz"
      },
      "source": [
        "\n",
        "\n",
        "----\n",
        "\n"
      ]
    },
    {
      "cell_type": "markdown",
      "metadata": {
        "id": "-q-LohMX4MLm"
      },
      "source": [
        "## 3/ The names of the **top 10** 🔝 **AS hosting malicious IPs which perform the highest number of attack** 🏆"
      ]
    },
    {
      "cell_type": "markdown",
      "metadata": {
        "id": "fgPSYham4t79"
      },
      "source": [
        "### In general *(for the entire dataset, containing the validated and non-validated malicious IPs)* :"
      ]
    },
    {
      "cell_type": "code",
      "execution_count": 160,
      "metadata": {
        "colab": {
          "base_uri": "https://localhost:8080/"
        },
        "id": "wZAJ2Dpd4TU8",
        "outputId": "9622571f-1a5d-4562-80e7-baac17ee6fac"
      },
      "outputs": [
        {
          "name": "stdout",
          "output_type": "stream",
          "text": [
            "Top 10 as hosting IPs which perform the highest number of attack :\n",
            "\n",
            "CLOUDFLARENET\n",
            "CLOUDFLARENET\n",
            "China Mobile communications corporation\n",
            "Chinanet\n",
            "Chinanet\n",
            "China Mobile communications corporation\n",
            "China Mobile communications corporation\n",
            "China Mobile communications corporation\n",
            "Chinanet\n",
            "Chinanet\n"
          ]
        }
      ],
      "source": [
        "top10 = df.loc[df.n_watchers.nlargest(10).index].as_num\n",
        "print(\"Top 10 as hosting IPs which perform the highest number of attack :\\n\")\n",
        "for i in top10 :\n",
        "    print(auto_sys[auto_sys[\"as_num\"]==i].as_name.item())"
      ]
    },
    {
      "cell_type": "markdown",
      "metadata": {
        "id": "7CgvjZLd51UD"
      },
      "source": [
        "### For just the validated malicious IPs ✅ :\n",
        "\n",
        "\n"
      ]
    },
    {
      "cell_type": "code",
      "execution_count": 161,
      "metadata": {
        "colab": {
          "base_uri": "https://localhost:8080/"
        },
        "id": "uZRBvlYB4toM",
        "outputId": "c4946bba-a043-4e3c-cab5-ad040e8d8d44"
      },
      "outputs": [
        {
          "name": "stdout",
          "output_type": "stream",
          "text": [
            "Top 10 as hosting validated IPs which perform the highest number of attack :\n",
            "\n",
            "China Mobile communications corporation\n",
            "Chinanet\n",
            "Chinanet\n",
            "China Mobile communications corporation\n",
            "China Mobile communications corporation\n",
            "China Mobile communications corporation\n",
            "Chinanet\n",
            "Chinanet\n",
            "China Mobile communications corporation\n",
            "China Mobile communications corporation\n"
          ]
        }
      ],
      "source": [
        "top10_v = df_valid.loc[df_valid.n_watchers.nlargest(10).index].as_num\n",
        "print(\"Top 10 as hosting validated IPs which perform the highest number of attack :\\n\")\n",
        "for i in top10_v :\n",
        "    print(auto_sys[auto_sys[\"as_num\"]==i].as_name.item())"
      ]
    },
    {
      "cell_type": "markdown",
      "metadata": {
        "id": "vEGbNTtT6kxc"
      },
      "source": [
        "_______\n"
      ]
    },
    {
      "cell_type": "markdown",
      "metadata": {
        "id": "ZG6XdVCY6-mt"
      },
      "source": [
        "\n",
        "\n",
        "## 4/ **Distribution of the average** `activity_in_days` and `age_in_days` of the **watchers who reported each malicious IPs** *(for the validated IPs only)*"
      ]
    },
    {
      "cell_type": "code",
      "execution_count": 162,
      "metadata": {
        "id": "1KTXOVft7LHG"
      },
      "outputs": [],
      "source": [
        "df[\"avg_activity_in_days\"] = df.unique_watcher_reported.apply(lambda x: watchers.set_index(\"id\").loc[x].activity_in_days.mean())\n",
        "df[\"avg_age_in_days\"] = df.unique_watcher_reported.apply(lambda x: watchers.set_index(\"id\").loc[x].age_in_days.mean())\n"
      ]
    },
    {
      "cell_type": "markdown",
      "metadata": {
        "id": "fMVrxwStNerh"
      },
      "source": [
        "**Boxenplot** is the prefered plots to visulize data distrbution, because he is more fast *(less computing power is needed compared to Vilionplot for example)..*"
      ]
    },
    {
      "cell_type": "code",
      "execution_count": 163,
      "metadata": {
        "colab": {
          "base_uri": "https://localhost:8080/",
          "height": 515
        },
        "id": "4RJP8rzHA0wm",
        "outputId": "f52ab307-9dcf-464a-8e17-4bf117029822"
      },
      "outputs": [
        {
          "data": {
            "image/png": "[encoded data removed]",
            "text/plain": [
              "<Figure size 1296x576 with 2 Axes>"
            ]
          },
          "metadata": {
            "needs_background": "light"
          },
          "output_type": "display_data"
        }
      ],
      "source": [
        "fig, ax =plt.subplots(nrows=1, ncols=2, figsize=(18,8))\n",
        "\n",
        "sns.boxenplot(data = df, x=\"is_validated\", y=\"avg_activity_in_days\", scale=\"linear\",width=0.9, ax=ax[0])\n",
        "ax[0].set_title(\"Distribution of the average activity_in_days compared to the validation\" ,fontsize=fs)\n",
        "\n",
        "sns.boxenplot(data = df, x=\"is_validated\", y=\"avg_age_in_days\", scale=\"linear\",width=0.9, ax=ax[1])\n",
        "ax[1].set_title(\"Distribution of the average age_in_days compared to the validation\" ,fontsize=fs)\n",
        "\n",
        "fig.show()"
      ]
    },
    {
      "cell_type": "markdown",
      "metadata": {
        "id": "IbIYxJNGDpIk"
      },
      "source": [
        "Validated malicious IPs have bigger `avg_age_in_day` and  `avg_activity_in_day`."
      ]
    },
    {
      "cell_type": "code",
      "execution_count": null,
      "metadata": {
        "id": "CZKZldQvNRKV"
      },
      "outputs": [],
      "source": [
        "#For the labeled data\n",
        "df_valid[\"avg_activity_in_days\"] = df_valid.unique_watcher_reported.apply(lambda x: watchers.set_index(\"id\").loc[x].activity_in_days.mean())\n",
        "df_valid[\"avg_age_in_days\"] = df_valid.unique_watcher_reported.apply(lambda x: watchers.set_index(\"id\").loc[x].age_in_days.mean())"
      ]
    },
    {
      "cell_type": "markdown",
      "metadata": {
        "id": "9tp1hhbjztAd"
      },
      "source": [
        "## 5/ **The 10 watchers which suffered from the highest number of attacks**"
      ]
    },
    {
      "cell_type": "code",
      "execution_count": 223,
      "metadata": {
        "colab": {
          "base_uri": "https://localhost:8080/"
        },
        "id": "5tYiwa94zoCJ",
        "outputId": "b1c7582c-fbda-45eb-8d86-7dcb9a9d173c"
      },
      "outputs": [
        {
          "name": "stdout",
          "output_type": "stream",
          "text": [
            "The 10 watchers which suffered from the highest number of attacks :\n",
            "\n",
            "47\n",
            "92263\n",
            "9662\n",
            "9663\n",
            "9563\n",
            "7286\n",
            "77642\n",
            "24249\n",
            "715\n",
            "561\n"
          ]
        }
      ],
      "source": [
        "top10_watchers = watchers.sort_values(by='n_ips_reported',ascending=False)['id'][:10].values\n",
        "\n",
        "print(\"The 10 watchers which suffered from the highest number of attacks :\\n\")\n",
        "for id in top10_watchers :\n",
        "    print(watchers[watchers[\"id\"]==id].id.item())"
      ]
    },
    {
      "cell_type": "markdown",
      "metadata": {
        "id": "3dDDE50KPiYc"
      },
      "source": [
        "## **Add more features** \n",
        "* Since `activity_in_days` always less or equal `age_in_days`, a proportion can be a good additional feature. *(values will be already scalled)*\n",
        "* Scaling columns that we added (`avg_age_in_days`,`avg_activity_in_days` and `n_watchers`) "
      ]
    },
    {
      "cell_type": "code",
      "execution_count": null,
      "metadata": {
        "id": "5NeWVfQHL8nK"
      },
      "outputs": [],
      "source": [
        "df['diff_act']= df['avg_activity_in_days']/df['avg_age_in_days']\n",
        "df_valid['diff_act']=df_valid['avg_activity_in_days']/df_valid['avg_age_in_days']"
      ]
    },
    {
      "cell_type": "code",
      "execution_count": null,
      "metadata": {
        "id": "-9Q6v820JLKp"
      },
      "outputs": [],
      "source": [
        "minmaxscaler = MinMaxScaler(feature_range=(0, 1))\n",
        "\n",
        "_ = df['avg_activity_in_days'].values.reshape(-1, 1)\n",
        "df['avg_activity_in_days'] = minmaxscaler.fit_transform(_)\n",
        "\n",
        "_ = df['avg_age_in_days'].values.reshape(-1, 1)\n",
        "df['avg_age_in_days'] = minmaxscaler.fit_transform(_)\n",
        "\n",
        "_ = df['n_watchers'].values.reshape(-1, 1)\n",
        "df['n_watchers'] = minmaxscaler.fit_transform(_)\n",
        "\n",
        "#For labeled data\n",
        "_ = df_valid['avg_activity_in_days'].values.reshape(-1, 1)\n",
        "df_valid['avg_activity_in_days'] = minmaxscaler.fit_transform(_)\n",
        "\n",
        "_ = df_valid['avg_age_in_days'].values.reshape(-1, 1)\n",
        "df_valid['avg_age_in_days'] = minmaxscaler.fit_transform(_)\n",
        "\n",
        "_ = df_valid['n_watchers'].values.reshape(-1, 1)\n",
        "df_valid['n_watchers'] = minmaxscaler.fit_transform(_)"
      ]
    },
    {
      "cell_type": "markdown",
      "metadata": {
        "id": "MlJ_epjsDqrv"
      },
      "source": [
        "____________\n"
      ]
    },
    {
      "cell_type": "markdown",
      "metadata": {
        "id": "5I2St62MD7KS"
      },
      "source": [
        "# **II-Graph**\n",
        "\n",
        "\n"
      ]
    },
    {
      "cell_type": "markdown",
      "metadata": {
        "id": "M27wpix1EQU_"
      },
      "source": [
        "Graph $G = (V,E)$ where a node $v$ is a malicious IP and an edge $e$ links two malicious IPs if they were reported by the same watcher. Hence the edges are weighted by the number of times 2 malicious IPs were reported by the same watchers."
      ]
    },
    {
      "cell_type": "code",
      "execution_count": 171,
      "metadata": {
        "id": "HlRbGIgREF2I"
      },
      "outputs": [],
      "source": [
        "#We will take only the relevant features\n",
        "features = df_valid.set_index(\"id\")[[\"diff_act\",\"n_ips_reported_bc\",\"n_watchers\",\"avg_activity_in_days\",\"binned_ip_reported\",\"avg_age_in_days\"]].to_dict(orient=\"index\")\n",
        "classes = df_valid.set_index(\"id\")[[\"attack_type\"]].to_dict(orient=\"index\")"
      ]
    },
    {
      "cell_type": "code",
      "execution_count": 172,
      "metadata": {
        "id": "4X4UkcJyNbZ5"
      },
      "outputs": [],
      "source": [
        "#Dict to intialise nodes later\n",
        "for key, value in features.items():\n",
        "    features[key] = list(value.values())\n",
        "\n",
        "for key, value in classes.items():\n",
        "    classes[key] = list(value.values())"
      ]
    },
    {
      "cell_type": "code",
      "execution_count": 173,
      "metadata": {
        "id": "aUgzW5dIN-Tp"
      },
      "outputs": [],
      "source": [
        "#Define the graph nodes\n",
        "nodes_id = df_valid.id.to_list()\n",
        "nodes = [(node,{'x':features[node],'y':classes[node]}) for node in nodes_id]"
      ]
    },
    {
      "cell_type": "code",
      "execution_count": 174,
      "metadata": {
        "id": "KdxEMW_GONRx"
      },
      "outputs": [],
      "source": [
        "#Define the undirected weighted edges\n",
        "watchers_list = df_valid.unique_watcher_reported.to_list()\n",
        "edges = [] \n",
        "for i in range(len(nodes_id)):\n",
        "    for j in range(i+1,len(nodes_id)):\n",
        "        weight = len(set(watchers_list[i])&set(watchers_list[j]))  \n",
        "        if weight!=0 :  \n",
        "            edges.append((nodes_id[i], nodes_id[j], weight)) "
      ]
    },
    {
      "cell_type": "code",
      "execution_count": 175,
      "metadata": {
        "id": "x_GDkRFhPAh2"
      },
      "outputs": [],
      "source": [
        "#Graph\n",
        "graph = nx.Graph() \n",
        "\n",
        "graph.add_nodes_from(nodes)\n",
        "graph.add_weighted_edges_from(edges)\n",
        "\n",
        "nb_nodes = graph.number_of_nodes()\n",
        "nb_edges = graph.number_of_edges()"
      ]
    },
    {
      "cell_type": "markdown",
      "metadata": {
        "id": "yYCWevSXWAUZ"
      },
      "source": [
        "### **Subgraph**"
      ]
    },
    {
      "cell_type": "code",
      "execution_count": 176,
      "metadata": {
        "colab": {
          "base_uri": "https://localhost:8080/",
          "height": 445
        },
        "id": "0f5DGvigV_iz",
        "outputId": "fe7689db-eb43-420c-dd65-b50f3f68a019"
      },
      "outputs": [
        {
          "data": {
            "image/png": "[encoded data removed]",
            "text/plain": [
              "<Figure size 1296x504 with 3 Axes>"
            ]
          },
          "metadata": {},
          "output_type": "display_data"
        }
      ],
      "source": [
        "#Only for the 40 most connected nodes \n",
        "n =40\n",
        "df_40 = df_valid.loc[df_valid.n_watchers.nlargest(n).index]\n",
        "\n",
        "nodes_40 = df_40.id.tolist()\n",
        "\n",
        "watchers_list_40 = df_40.unique_watcher_reported.tolist()\n",
        "edges_40 = [] \n",
        "for i in range(len(nodes_40)):\n",
        "    for j in range(i+1,len(nodes_40)):\n",
        "        weight = len(set(watchers_list_40[i])&set(watchers_list_40[j]))\n",
        "        if weight!=0 : \n",
        "            edges_40.append((nodes_40[i], nodes_40[j], weight)) \n",
        "\n",
        "graph_40 = nx.Graph() \n",
        "\n",
        "graph_40.add_nodes_from(nodes_40)\n",
        "graph_40.add_weighted_edges_from(edges_40)\n",
        "\n",
        "nb_nodes = graph_40.number_of_nodes()\n",
        "nb_edges = graph_40.number_of_edges()\n",
        "\n",
        "adj_40 = nx.adjacency_matrix(graph_40) \n",
        "\n",
        "fig, ax = plt.subplots(nrows=1, ncols=2,figsize=(18,7)) \n",
        "\n",
        "sns.heatmap(adj_40.todense(), cmap=\"YlGnBu\",ax=ax[0])\n",
        "ax[0].set_title(\"Adjacency matrix of the subplot\",fontsize=fs)\n",
        "\n",
        "\n",
        "nx.draw(graph_40, pos=nx.spring_layout(graph_40, seed=8), width=0.2)\n",
        "ax[1].set_title(\"Subgraph of the 40 most connected nodes\",fontsize=fs)\n",
        "\n",
        "fig.show()"
      ]
    },
    {
      "cell_type": "markdown",
      "metadata": {
        "id": "Skz3PKdRZP2e"
      },
      "source": [
        "# **III- Training a node classifier (GCN)** \n"
      ]
    },
    {
      "cell_type": "code",
      "execution_count": 177,
      "metadata": {
        "id": "FnJ3WeIjZdeE"
      },
      "outputs": [],
      "source": [
        "#convert the graph to graph data \n",
        "pyg_graph = gdf = from_networkx(graph) \n",
        "\n",
        "#train test split \n",
        "train_ratio = 0.8\n",
        "val_ratio = 0.1\n",
        "\n",
        "n_nodes = pyg_graph.x.shape[0]\n",
        "num_train = int(n_nodes * train_ratio)\n",
        "num_val = int(n_nodes * val_ratio)\n",
        "\n",
        "index = [i for i in range(n_nodes)]\n",
        "np.random.shuffle(index)\n",
        "\n",
        "train_mask = torch.full_like(pyg_graph.y, False, dtype=bool)\n",
        "train_mask[index[:num_train]] = True\n",
        "\n",
        "test_mask = torch.full_like(pyg_graph.y, False, dtype=bool)\n",
        "test_mask[index[num_train:num_train+num_val]] = True\n",
        "\n",
        "val_mask = torch.full_like(pyg_graph.y, False, dtype=bool)\n",
        "val_mask[index[num_train+num_val:]] = True\n",
        "\n",
        "pyg_graph.train_mask = train_mask\n",
        "pyg_graph.test_mask = test_mask\n",
        "pyg_graph.val_mask = val_mask"
      ]
    },
    {
      "cell_type": "code",
      "execution_count": 209,
      "metadata": {
        "id": "sFKj4OHRzTNn"
      },
      "outputs": [],
      "source": [
        "class GCN(torch.nn.Module):\n",
        "    def __init__(self, number_of_features, number_of_classes):\n",
        "        super().__init__()\n",
        "        torch.manual_seed(888)\n",
        "        self.conv1 = GCNConv(number_of_features, 64)\n",
        "        self.conv2 = GCNConv(64, 64)\n",
        "        self.classifier = nn.Linear(64, number_of_classes)\n",
        "\n",
        "    def forward(self, x, edge_index):\n",
        "        h = self.conv1(x, edge_index)\n",
        "        h = h.relu()\n",
        "        h = self.conv2(h, edge_index)\n",
        "        h = h.relu()\n",
        "\n",
        "        out = self.classifier(h)\n",
        "        return out, h"
      ]
    },
    {
      "cell_type": "code",
      "execution_count": 222,
      "metadata": {
        "colab": {
          "base_uri": "https://localhost:8080/"
        },
        "id": "LSjHxrhyyjQy",
        "outputId": "25cbca82-32bf-478a-f520-be94ef5bddec"
      },
      "outputs": [
        {
          "name": "stderr",
          "output_type": "stream",
          "text": [
            "100%|██████████| 400/400 [08:46<00:00,  1.32s/it, train_loss: 0.2635 val_accuracy : 0.9094]\n"
          ]
        }
      ],
      "source": [
        "gcn = GCN(6, 6)\n",
        "optimizer = Adam(gcn.parameters(), lr=0.06)\n",
        "criterion = nn.CrossEntropyLoss()\n",
        "epochs = 400\n",
        "\n",
        "writer = SummaryWriter(log_dir=\"output/gcn/\")\n",
        "\n",
        "loop = tqdm(range(1, epochs+1))\n",
        "for epoch in loop:\n",
        "      gcn.train()\n",
        "      optimizer.zero_grad()  # clear gradients\n",
        "      out,_ = gcn(gdf.x, gdf.edge_index)  #  feedforward\n",
        "      loss = criterion(out[gdf.train_mask.flatten()], gdf.y[gdf.train_mask].flatten())  # compute the loss solely based on the training nodes\n",
        "      loss.backward()  \n",
        "      optimizer.step() \n",
        "\n",
        "      pred = out.argmax(dim=1)  # Use the class with highest probability.\n",
        "      val_correct = pred[gdf.val_mask.flatten()] == gdf.y[gdf.val_mask]  # Check against ground-truth labels.\n",
        "      val_acc = int(val_correct.sum()) / int(gdf.val_mask.sum())  # Derive ratio of correct predictions.\n",
        "    \n",
        "      loop.set_postfix_str(f'train_loss: {loss:.4f} val_accuracy : {val_acc:.4f}')\n",
        "      writer.add_scalars(\"losses\",{\"train\": np.round(loss.item(),3)}, epoch)"
      ]
    },
    {
      "cell_type": "code",
      "execution_count": 225,
      "metadata": {
        "colab": {
          "base_uri": "https://localhost:8080/"
        },
        "id": "-q5t1LO15RVd",
        "outputId": "dae8c447-ac7d-4d89-ce0f-a1cc39a36409"
      },
      "outputs": [
        {
          "name": "stdout",
          "output_type": "stream",
          "text": [
            "Test Accuracy: 0.90\n"
          ]
        }
      ],
      "source": [
        "#test set\n",
        "gcn.eval()\n",
        "\n",
        "out,_ = gcn(gdf.x, gdf.edge_index)\n",
        "pred = out.argmax(dim=1)\n",
        "test_correct = pred[gdf.test_mask.flatten()] == gdf.y[gdf.test_mask]\n",
        "test_acc = int(test_correct.sum()) / int(gdf.test_mask.sum())  \n",
        "\n",
        "print(f'Test Accuracy: {test_acc:.2f}')"
      ]
    },
    {
      "cell_type": "markdown",
      "metadata": {
        "id": "U0gqIKpPAq_B"
      },
      "source": [
        "# **VI- Semi Supervised Learning** 🤖"
      ]
    },
    {
      "cell_type": "code",
      "execution_count": 233,
      "metadata": {
        "id": "R0SpyaR1DUIS"
      },
      "outputs": [],
      "source": [
        "df = df.reset_index()"
      ]
    },
    {
      "cell_type": "code",
      "execution_count": 234,
      "metadata": {
        "id": "NWmDTQz_th3Y"
      },
      "outputs": [],
      "source": [
        "#Extracting relevent features\n",
        "df = df.set_index('id')\n",
        "data = df[[\"diff_act\",\"attack_type\",\"n_ips_reported_bc\",\"n_watchers\",\"avg_activity_in_days\",\"avg_age_in_days\",\"binned_ip_reported\"]]\n",
        "\n",
        "#One Hot encoding for attack type\n",
        "attack_type_encoded = pd.get_dummies(data['attack_type'])\n",
        "data = data.drop('attack_type',axis=1)\n",
        "data = pd.concat([data, attack_type_encoded], axis=1)\n",
        "\n",
        "#Mapping the entire dataframe, putting -1 to the unlabeled data\n",
        "labels = df['is_validated'].replace({True:1,False:0,np.nan:-1})"
      ]
    },
    {
      "cell_type": "code",
      "execution_count": 236,
      "metadata": {
        "colab": {
          "base_uri": "https://localhost:8080/",
          "height": 175
        },
        "id": "MNdknqUOCtL3",
        "outputId": "9d30ecc3-9a81-4864-f347-6181ab62cc9a"
      },
      "outputs": [
        {
          "data": {
            "text/html": [
              "\n",
              "  <div id=\"df-f97dcfb1-0596-4cf1-80bb-f0c41e581f68\">\n",
              "    <div class=\"colab-df-container\">\n",
              "      <div>\n",
              "<style scoped>\n",
              "    .dataframe tbody tr th:only-of-type {\n",
              "        vertical-align: middle;\n",
              "    }\n",
              "\n",
              "    .dataframe tbody tr th {\n",
              "        vertical-align: top;\n",
              "    }\n",
              "\n",
              "    .dataframe thead th {\n",
              "        text-align: right;\n",
              "    }\n",
              "</style>\n",
              "<table border=\"1\" class=\"dataframe\">\n",
              "  <thead>\n",
              "    <tr style=\"text-align: right;\">\n",
              "      <th></th>\n",
              "      <th>diff_act</th>\n",
              "      <th>n_ips_reported_bc</th>\n",
              "      <th>n_watchers</th>\n",
              "      <th>avg_activity_in_days</th>\n",
              "      <th>avg_age_in_days</th>\n",
              "      <th>binned_ip_reported</th>\n",
              "      <th>0</th>\n",
              "      <th>1</th>\n",
              "      <th>2</th>\n",
              "      <th>3</th>\n",
              "      <th>4</th>\n",
              "      <th>5</th>\n",
              "    </tr>\n",
              "    <tr>\n",
              "      <th>id</th>\n",
              "      <th></th>\n",
              "      <th></th>\n",
              "      <th></th>\n",
              "      <th></th>\n",
              "      <th></th>\n",
              "      <th></th>\n",
              "      <th></th>\n",
              "      <th></th>\n",
              "      <th></th>\n",
              "      <th></th>\n",
              "      <th></th>\n",
              "      <th></th>\n",
              "    </tr>\n",
              "  </thead>\n",
              "  <tbody>\n",
              "    <tr>\n",
              "      <th>3</th>\n",
              "      <td>0.975430</td>\n",
              "      <td>20.004788</td>\n",
              "      <td>0.000</td>\n",
              "      <td>0.990000</td>\n",
              "      <td>1.000000</td>\n",
              "      <td>0</td>\n",
              "      <td>0</td>\n",
              "      <td>0</td>\n",
              "      <td>1</td>\n",
              "      <td>0</td>\n",
              "      <td>0</td>\n",
              "      <td>0</td>\n",
              "    </tr>\n",
              "    <tr>\n",
              "      <th>4</th>\n",
              "      <td>0.985258</td>\n",
              "      <td>20.004788</td>\n",
              "      <td>0.000</td>\n",
              "      <td>1.000000</td>\n",
              "      <td>1.000000</td>\n",
              "      <td>0</td>\n",
              "      <td>0</td>\n",
              "      <td>0</td>\n",
              "      <td>1</td>\n",
              "      <td>0</td>\n",
              "      <td>0</td>\n",
              "      <td>0</td>\n",
              "    </tr>\n",
              "    <tr>\n",
              "      <th>9</th>\n",
              "      <td>0.869832</td>\n",
              "      <td>3.088389</td>\n",
              "      <td>0.168</td>\n",
              "      <td>0.352209</td>\n",
              "      <td>0.399301</td>\n",
              "      <td>1</td>\n",
              "      <td>1</td>\n",
              "      <td>0</td>\n",
              "      <td>0</td>\n",
              "      <td>0</td>\n",
              "      <td>0</td>\n",
              "      <td>0</td>\n",
              "    </tr>\n",
              "  </tbody>\n",
              "</table>\n",
              "</div>\n",
              "      <button class=\"colab-df-convert\" onclick=\"convertToInteractive('df-f97dcfb1-0596-4cf1-80bb-f0c41e581f68')\"\n",
              "              title=\"Convert this dataframe to an interactive table.\"\n",
              "              style=\"display:none;\">\n",
              "        \n",
              "  <svg xmlns=\"http://www.w3.org/2000/svg\" height=\"24px\"viewBox=\"0 0 24 24\"\n",
              "       width=\"24px\">\n",
              "    <path d=\"M0 0h24v24H0V0z\" fill=\"none\"/>\n",
              "    <path d=\"M18.56 5.44l.94 2.06.94-2.06 2.06-.94-2.06-.94-.94-2.06-.94 2.06-2.06.94zm-11 1L8.5 8.5l.94-2.06 2.06-.94-2.06-.94L8.5 2.5l-.94 2.06-2.06.94zm10 10l.94 2.06.94-2.06 2.06-.94-2.06-.94-.94-2.06-.94 2.06-2.06.94z\"/><path d=\"M17.41 7.96l-1.37-1.37c-.4-.4-.92-.59-1.43-.59-.52 0-1.04.2-1.43.59L10.3 9.45l-7.72 7.72c-.78.78-.78 2.05 0 2.83L4 21.41c.39.39.9.59 1.41.59.51 0 1.02-.2 1.41-.59l7.78-7.78 2.81-2.81c.8-.78.8-2.07 0-2.86zM5.41 20L4 18.59l7.72-7.72 1.47 1.35L5.41 20z\"/>\n",
              "  </svg>\n",
              "      </button>\n",
              "      \n",
              "  <style>\n",
              "    .colab-df-container {\n",
              "      display:flex;\n",
              "      flex-wrap:wrap;\n",
              "      gap: 12px;\n",
              "    }\n",
              "\n",
              "    .colab-df-convert {\n",
              "      background-color: #E8F0FE;\n",
              "      border: none;\n",
              "      border-radius: 50%;\n",
              "      cursor: pointer;\n",
              "      display: none;\n",
              "      fill: #1967D2;\n",
              "      height: 32px;\n",
              "      padding: 0 0 0 0;\n",
              "      width: 32px;\n",
              "    }\n",
              "\n",
              "    .colab-df-convert:hover {\n",
              "      background-color: #E2EBFA;\n",
              "      box-shadow: 0px 1px 2px rgba(60, 64, 67, 0.3), 0px 1px 3px 1px rgba(60, 64, 67, 0.15);\n",
              "      fill: #174EA6;\n",
              "    }\n",
              "\n",
              "    [theme=dark] .colab-df-convert {\n",
              "      background-color: #3B4455;\n",
              "      fill: #D2E3FC;\n",
              "    }\n",
              "\n",
              "    [theme=dark] .colab-df-convert:hover {\n",
              "      background-color: #434B5C;\n",
              "      box-shadow: 0px 1px 3px 1px rgba(0, 0, 0, 0.15);\n",
              "      filter: drop-shadow(0px 1px 2px rgba(0, 0, 0, 0.3));\n",
              "      fill: #FFFFFF;\n",
              "    }\n",
              "  </style>\n",
              "\n",
              "      <script>\n",
              "        const buttonEl =\n",
              "          document.querySelector('#df-f97dcfb1-0596-4cf1-80bb-f0c41e581f68 button.colab-df-convert');\n",
              "        buttonEl.style.display =\n",
              "          google.colab.kernel.accessAllowed ? 'block' : 'none';\n",
              "\n",
              "        async function convertToInteractive(key) {\n",
              "          const element = document.querySelector('#df-f97dcfb1-0596-4cf1-80bb-f0c41e581f68');\n",
              "          const dataTable =\n",
              "            await google.colab.kernel.invokeFunction('convertToInteractive',\n",
              "                                                     [key], {});\n",
              "          if (!dataTable) return;\n",
              "\n",
              "          const docLinkHtml = 'Like what you see? Visit the ' +\n",
              "            '<a target=\"_blank\" href=https://colab.research.google.com/notebooks/data_table.ipynb>data table notebook</a>'\n",
              "            + ' to learn more about interactive tables.';\n",
              "          element.innerHTML = '';\n",
              "          dataTable['output_type'] = 'display_data';\n",
              "          await google.colab.output.renderOutput(dataTable, element);\n",
              "          const docLink = document.createElement('div');\n",
              "          docLink.innerHTML = docLinkHtml;\n",
              "          element.appendChild(docLink);\n",
              "        }\n",
              "      </script>\n",
              "    </div>\n",
              "  </div>\n",
              "  "
            ],
            "text/plain": [
              "    diff_act  n_ips_reported_bc  n_watchers  avg_activity_in_days  \\\n",
              "id                                                                  \n",
              "3   0.975430          20.004788       0.000              0.990000   \n",
              "4   0.985258          20.004788       0.000              1.000000   \n",
              "9   0.869832           3.088389       0.168              0.352209   \n",
              "\n",
              "    avg_age_in_days  binned_ip_reported  0  1  2  3  4  5  \n",
              "id                                                         \n",
              "3          1.000000                   0  0  0  1  0  0  0  \n",
              "4          1.000000                   0  0  0  1  0  0  0  \n",
              "9          0.399301                   1  1  0  0  0  0  0  "
            ]
          },
          "execution_count": 236,
          "metadata": {},
          "output_type": "execute_result"
        }
      ],
      "source": [
        "data.head(3)"
      ]
    },
    {
      "cell_type": "code",
      "execution_count": 237,
      "metadata": {
        "id": "EikGoaw2XLXU"
      },
      "outputs": [],
      "source": [
        "#Exporting data\n",
        "data.to_csv('data/output/prepared_data.csv') \n",
        "labels.to_csv('data/output/labels.csv')"
      ]
    },
    {
      "cell_type": "code",
      "execution_count": 238,
      "metadata": {
        "id": "O1j0vz6oTHd-"
      },
      "outputs": [],
      "source": [
        "#Importing data \n",
        "X = pd.read_csv('data/output/prepared_data.csv')\n",
        "X = X.to_numpy()\n",
        "y = pd.read_csv('data/output/labels.csv')\n",
        "y = y['is_validated']"
      ]
    },
    {
      "cell_type": "markdown",
      "metadata": {
        "id": "g7TtcIr3WPOG"
      },
      "source": [
        "In semi supervised learning, GNNs are one of the acvanced and most robest ways to do it. Beceause the adjancy matrix A provide us the possibility to decompose it to Laplacien matrix that help us in many algorithms, like spectral clustring (a powerfull clustring methode), and more algorithms ..\n",
        "\n",
        "**Adjacency matrix**\n",
        "\\begin{align*}\n",
        "A_{ij} = \\left\\{\n",
        "    \\begin{array}{ll}\n",
        "    1 &\\text{ if } e_{ij}\\in E\\\\\n",
        "    0 &\\text{ if } e_{ij}\\notin E\n",
        "    \\end{array}\n",
        "    \\right.\n",
        "\\end{align*}\n",
        "\n",
        "**Degree matrix**\n",
        "\\begin{align*}\n",
        "D_{ij} = \\left\\{\n",
        "    \\begin{array}{ll}\n",
        "    \\mbox{deg}(v_i) &\\text{ if } i=j\\\\\n",
        "    0 &\\text{ if } i\\neq j\n",
        "    \\end{array}\n",
        "    \\right.\n",
        "\\end{align*}\n",
        "\n",
        "**Laplacian**\n",
        "\\begin{align*}\n",
        "L &= D - A.\n",
        "\\end{align*}\n",
        "\n",
        "**Normalized Laplacian**\n",
        "\\begin{align*}\n",
        "L &= I - D^{-1/2} A D^{-1/2}.\n",
        "\\end{align*}\n",
        "\n",
        "\n",
        "\n",
        "___\n",
        "\n",
        "**Label propagation** : It minimizes a loss function that has regularization properties and is often more robust to noise. The algorithm iterates on a modified version of the original graph and normalizes the edge weights by computing the normalized graph Laplacian matrix. This procedure is also used in Spectral clustering.\n"
      ]
    },
    {
      "cell_type": "markdown",
      "metadata": {
        "id": "XK4G8phBZWqI"
      },
      "source": [
        "We will use SKlearn Label Propagation classifier."
      ]
    },
    {
      "cell_type": "code",
      "execution_count": 239,
      "metadata": {
        "colab": {
          "base_uri": "https://localhost:8080/"
        },
        "id": "OJRp5nhDzsXp",
        "outputId": "7051aeed-40d8-4a39-dd03-299d04607c0c"
      },
      "outputs": [
        {
          "data": {
            "text/plain": [
              "LabelPropagation()"
            ]
          },
          "execution_count": 239,
          "metadata": {},
          "output_type": "execute_result"
        }
      ],
      "source": [
        "#Fitting with entire dataset\n",
        "label_prop_model = LabelPropagation()\n",
        "label_prop_model.fit(X, y)"
      ]
    },
    {
      "cell_type": "code",
      "execution_count": 240,
      "metadata": {
        "colab": {
          "base_uri": "https://localhost:8080/"
        },
        "id": "QxeOWxf141FZ",
        "outputId": "a460bf8f-7bfe-4303-a6b1-ddbce10116de"
      },
      "outputs": [
        {
          "name": "stderr",
          "output_type": "stream",
          "text": [
            "/usr/local/lib/python3.7/dist-packages/sklearn/semi_supervised/_label_propagation.py:222: RuntimeWarning: invalid value encountered in true_divide\n",
            "  probabilities /= normalizer\n"
          ]
        },
        {
          "name": "stdout",
          "output_type": "stream",
          "text": [
            "Accuracy of Label Spreading:  100.00%\n"
          ]
        },
        {
          "name": "stderr",
          "output_type": "stream",
          "text": [
            "/usr/local/lib/python3.7/dist-packages/sklearn/semi_supervised/_label_propagation.py:222: RuntimeWarning: invalid value encountered in true_divide\n",
            "  probabilities /= normalizer\n"
          ]
        }
      ],
      "source": [
        "#Predicting on the whole dataset\n",
        "pred_lb = label_prop_model.predict(X)\n",
        "print(\"Accuracy of Label Spreading: \",'{:.2%}'.format(label_prop_model.score(X,pred_lb)))"
      ]
    },
    {
      "cell_type": "code",
      "execution_count": 248,
      "metadata": {
        "id": "F4sXJvx951Pq"
      },
      "outputs": [],
      "source": [
        "#Using this newly predicted labels and try to build a XGBoost Model (Tree based model), without hyper parameters tunning (simple model)\n",
        "xgb= xgboost.XGBClassifier()\n",
        "\n",
        "\n",
        "X_train, X_test, y_train, y_test = train_test_split(X, pred_lb, test_size=0.1, random_state=888) "
      ]
    },
    {
      "cell_type": "code",
      "execution_count": 249,
      "metadata": {
        "colab": {
          "base_uri": "https://localhost:8080/"
        },
        "id": "R4YpXvY48tMi",
        "outputId": "0fff792e-fdfa-4227-f3d4-5ab3e11c6272"
      },
      "outputs": [
        {
          "data": {
            "text/plain": [
              "XGBClassifier()"
            ]
          },
          "execution_count": 249,
          "metadata": {},
          "output_type": "execute_result"
        }
      ],
      "source": [
        "#Fitting\n",
        "xgb.fit(X_train,y_train)"
      ]
    },
    {
      "cell_type": "code",
      "execution_count": 250,
      "metadata": {
        "colab": {
          "base_uri": "https://localhost:8080/"
        },
        "id": "NGwhQzx5_XLj",
        "outputId": "49b5c042-87c0-459d-a929-702629fa93d2"
      },
      "outputs": [
        {
          "data": {
            "text/plain": [
              "array([0.9194089 , 0.91407678, 0.91986594, 0.91208289])"
            ]
          },
          "execution_count": 250,
          "metadata": {},
          "output_type": "execute_result"
        }
      ],
      "source": [
        "#Scores on 4 folds cross validation\n",
        "scores = cross_val_score(xgb, X_train, y_train, scoring=\"accuracy\", cv=4)\n",
        "scores"
      ]
    },
    {
      "cell_type": "code",
      "execution_count": 251,
      "metadata": {
        "colab": {
          "base_uri": "https://localhost:8080/"
        },
        "id": "yI0fXCO9_7T6",
        "outputId": "df6c82ed-072e-409b-aa81-c8eeda149bd4"
      },
      "outputs": [
        {
          "name": "stdout",
          "output_type": "stream",
          "text": [
            "              precision    recall  f1-score   support\n",
            "\n",
            "           0       0.92      0.99      0.95      2525\n",
            "           1       0.86      0.44      0.58       393\n",
            "\n",
            "    accuracy                           0.91      2918\n",
            "   macro avg       0.89      0.71      0.77      2918\n",
            "weighted avg       0.91      0.91      0.90      2918\n",
            "\n"
          ]
        }
      ],
      "source": [
        "#Claasification report\n",
        "y_pred = xgb.predict(X_test)\n",
        "cm = classification_report(y_test,y_pred) \n",
        "print(cm)"
      ]
    },
    {
      "cell_type": "markdown",
      "metadata": {
        "id": "eBmCpkwixSwY"
      },
      "source": [
        "\n",
        "\n",
        "---\n",
        "\n"
      ]
    },
    {
      "cell_type": "markdown",
      "metadata": {
        "id": "p0LtOwxw2JFH"
      },
      "source": [
        "# **V- Appendix** "
      ]
    },
    {
      "cell_type": "markdown",
      "metadata": {
        "id": "SBjnkxwFcPPP"
      },
      "source": [
        "### **Conclusion**\n",
        "* Manually induce unlabeled samples in dataset\n",
        "* Use Semi-Supervised Learning Estimator (Label propagation) to predict labels for the unlabeled samples.\n",
        "* Build Classifier Model using the predicted labels."
      ]
    },
    {
      "cell_type": "markdown",
      "metadata": {
        "id": "Ic880iljcZbP"
      },
      "source": [
        "### **Future steps**\n",
        "* Try to build the graph with **jraph**, a lightweight library for working with **GNNs** in **JAX**.\n"
      ]
    },
    {
      "cell_type": "markdown",
      "metadata": {
        "id": "upPtxiBUxRJ6"
      },
      "source": [
        "\n",
        "\n",
        "---\n",
        "\n"
      ]
    },
    {
      "cell_type": "markdown",
      "metadata": {
        "id": "AeCp6GDbuAob"
      },
      "source": [
        "### **References** \n",
        "* [**Scikit-learn**, Semi-Supervised.](https://scikit-learn.org/stable/modules/semi_supervised.html#label-propagation)\n",
        "* [**Thomas Kipf**, GRAPH CONVOLUTIONAL NETWORKS.](http://tkipf.github.io/graph-convolutional-networks/)\n",
        "* [**Gowri Shankar**, Graph Convolution Network - A Practical Implementation of Vertex Classifier and it's Mathematical Basis](https://gowrishankar.info/blog/graph-convolution-network-a-practical-implementation-of-vertex-classifier-and-its-mathematical-basis/#graph-nn-classifier)\n",
        "* [**Xing Li, Wei Wei, Xiangnan Feng, Xue Liu, Zhiming Zheng**,Representation Learning of Graphs\n",
        "Using Graph Convolutional Multilayer\n",
        "Networks Based on Motifs](https://arxiv.org/abs/1609.02907)"
      ]
    },
    {
      "cell_type": "markdown",
      "metadata": {},
      "source": [
        "### **Apperciation**\n",
        "My sincers apperciations to **Bigmama Technology** for this challange."
      ]
    }
  ],
  "metadata": {
    "colab": {
      "collapsed_sections": [
        "fgPSYham4t79",
        "7CgvjZLd51UD"
      ],
      "provenance": []
    },
    "kernelspec": {
      "display_name": "Python 3.9.13 64-bit (microsoft store)",
      "language": "python",
      "name": "python3"
    },
    "language_info": {
      "name": "python",
      "version": "3.9.13"
    },
    "vscode": {
      "interpreter": {
        "hash": "5ef52e6b0e9d0b6928bf286c02f57873b5cf190da3246384879bd2a175df1b9d"
      }
    }
  },
  "nbformat": 4,
  "nbformat_minor": 0
}
